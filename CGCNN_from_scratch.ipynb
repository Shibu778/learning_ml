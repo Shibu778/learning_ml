{
  "nbformat": 4,
  "nbformat_minor": 0,
  "metadata": {
    "colab": {
      "provenance": [],
      "authorship_tag": "ABX9TyPxgKDN//vUsKBFDt06P8FW",
      "include_colab_link": true
    },
    "kernelspec": {
      "name": "python3",
      "display_name": "Python 3"
    },
    "language_info": {
      "name": "python"
    }
  },
  "cells": [
    {
      "cell_type": "markdown",
      "metadata": {
        "id": "view-in-github",
        "colab_type": "text"
      },
      "source": [
        "<a href=\"https://colab.research.google.com/github/Shibu778/learning_ml/blob/main/CGCNN_from_scratch.ipynb\" target=\"_parent\"><img src=\"https://colab.research.google.com/assets/colab-badge.svg\" alt=\"Open In Colab\"/></a>"
      ]
    },
    {
      "cell_type": "markdown",
      "source": [
        "## CGCNN from Scratch"
      ],
      "metadata": {
        "id": "A_Rorm0DNSrk"
      }
    },
    {
      "cell_type": "markdown",
      "source": [
        "Crystal Graph Convolutional Neural Networks (CGCNN) is a machine learning framework that predicts material properties from crystal structures using graph neural networks. CGCNN framework directly learns about the materials properties from the connection between the atoms providing a universal and interpretable representation of crystalline materials. The main idea in this approach is to represent the crystal structure by a crystal graph that encodes both atomic information and bonding interactions between atoms, and then build a convolutional neural network on top of the graph to automatically extract representations that are optimum for predicting target properties by training with DFT calculated data."
      ],
      "metadata": {
        "id": "45sdqhoYNW1o"
      }
    },
    {
      "cell_type": "markdown",
      "source": [
        "A crystal graph $G$ is an undirected graph which is defined by nodes representing atoms and edges representing connection between atoms in a crystal. Unlike a normal graph it allows multiple edges between smae pair of end nodes to account for periodicity. Each node is represented by a feature vector $\\textbf{v}_i$, encoding the property of the atom corresponding to node $i$. Similarly, each edge $(i, j)_k$ is represented by a feutre vector $\\textbf{u}_{(i,j)_k}$, corresponding to the $k^{th}$ bond connecting atom $i$ and atom $j$."
      ],
      "metadata": {
        "id": "C8OnhluTSPrQ"
      }
    },
    {
      "cell_type": "markdown",
      "source": [
        "The convolutional neural network built on top of the crystal graph consist of two major components: convolutional layers and pooling layers. The convolutional layers iteratively update the atom feature vector $\\textbf{v}_i$ by convolution with surrounding atoms and bonds with a nonlinear graph convolution function,\n",
        "\n",
        "$$\\textbf{v}_i^{t+1} = Conv\\left(\\textbf{v}_i^{(t)}, \\textbf{v}_j^{(t)}, \\textbf{u}_{(i,j)_k}\\right), (i, j)_k ~ 𝝐 ~ G$$."
      ],
      "metadata": {
        "id": "NwNpcfOhTgLj"
      }
    },
    {
      "cell_type": "code",
      "execution_count": null,
      "metadata": {
        "id": "_Cn6NAYCNOtK"
      },
      "outputs": [],
      "source": []
    },
    {
      "cell_type": "markdown",
      "source": [
        "## References\n",
        "1. https://github.com/txie-93/cgcnn\n",
        "2. https://journals.aps.org/prl/pdf/10.1103/PhysRevLett.120.145301"
      ],
      "metadata": {
        "id": "QNxW1Bo2O75c"
      }
    }
  ]
}