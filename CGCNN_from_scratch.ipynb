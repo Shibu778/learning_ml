{
  "nbformat": 4,
  "nbformat_minor": 0,
  "metadata": {
    "colab": {
      "provenance": [],
      "authorship_tag": "ABX9TyPUN5xWGV1cIIRR7mDjfKSn",
      "include_colab_link": true
    },
    "kernelspec": {
      "name": "python3",
      "display_name": "Python 3"
    },
    "language_info": {
      "name": "python"
    }
  },
  "cells": [
    {
      "cell_type": "markdown",
      "metadata": {
        "id": "view-in-github",
        "colab_type": "text"
      },
      "source": [
        "<a href=\"https://colab.research.google.com/github/Shibu778/learning_ml/blob/main/CGCNN_from_scratch.ipynb\" target=\"_parent\"><img src=\"https://colab.research.google.com/assets/colab-badge.svg\" alt=\"Open In Colab\"/></a>"
      ]
    },
    {
      "cell_type": "markdown",
      "source": [
        "## CGCNN from Scratch"
      ],
      "metadata": {
        "id": "A_Rorm0DNSrk"
      }
    },
    {
      "cell_type": "markdown",
      "source": [
        "Crystal Graph Convolutional Neural Networks (CGCNN) is a machine learning framework that predicts material properties from crystal structures using graph neural networks."
      ],
      "metadata": {
        "id": "45sdqhoYNW1o"
      }
    },
    {
      "cell_type": "code",
      "execution_count": null,
      "metadata": {
        "id": "_Cn6NAYCNOtK"
      },
      "outputs": [],
      "source": []
    }
  ]
}